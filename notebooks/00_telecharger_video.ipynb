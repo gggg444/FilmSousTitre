{
 "cells": [
  {
   "cell_type": "code",
   "execution_count": null,
   "id": "0",
   "metadata": {},
   "outputs": [],
   "source": [
    "import yt_dlp\n",
    "\n",
    "url = 'https://www.bilibili.com/video/BV1BU4y1Z7dP'\n"
   ]
  },
  {
   "cell_type": "code",
   "execution_count": null,
   "id": "1",
   "metadata": {},
   "outputs": [],
   "source": [
    "ydl_opts = {\n",
    "    'outtmpl': '%(title)s.%(ext)s', \n",
    "    'format': 'bestaudio',           \n",
    "    'ffmpeg_location': r'C:\\Users\\rekxh\\Downloads\\ffmpeg-7.1.1-full_build\\ffmpeg-7.1.1-full_build\\bin\\ffmpeg.exe',\n",
    "    'postprocessors': [{             # 转换为 mp3 或其他格式（可选）\n",
    "        'key': 'FFmpegExtractAudio',\n",
    "        'preferredcodec': 'mp3',     # 你也可以改成 'm4a', 'wav', 等\n",
    "        'preferredquality': '192',\n",
    "    }],\n",
    "}\n",
    "with yt_dlp.YoutubeDL(ydl_opts) as ydl:\n",
    "    ydl.download([url])"
   ]
  },
  {
   "cell_type": "code",
   "execution_count": null,
   "id": "2",
   "metadata": {},
   "outputs": [],
   "source": [
    "## mp4 version available\n",
    "\n",
    "# ydl_opts = {\n",
    "#     'outtmpl': '%(title)s.%(ext)s',\n",
    "#     'format': 'bestvideo+bestaudio/best',\n",
    "#     'merge_output_format': 'mp4',\n",
    "#     'ffmpeg_location': r'C:\\Users\\rekxh\\Downloads\\ffmpeg-7.1.1-full_build\\ffmpeg-7.1.1-full_build\\bin\\ffmpeg.exe',\n",
    "# }\n",
    "\n",
    "# with yt_dlp.YoutubeDL(ydl_opts) as ydl:\n",
    "#     ydl.download([url])"
   ]
  },
  {
   "cell_type": "code",
   "execution_count": null,
   "id": "3",
   "metadata": {},
   "outputs": [],
   "source": [
    "!pip install pydub\n"
   ]
  },
  {
   "cell_type": "code",
   "execution_count": null,
   "id": "4",
   "metadata": {},
   "outputs": [],
   "source": [
    "from pathlib import Path\n",
    "from pydub import AudioSegment\n",
    "\n",
    "CHUNK_MS = 3 * 60 * 1000   # 3 分钟 → 毫秒\n",
    "\n",
    "def slice_mp3(file_path: Path, out_dir: Path = None):\n",
    "    \"\"\"\n",
    "    把单个 MP3 切成 3 分钟段。\n",
    "    参数:\n",
    "        file_path: 目标 MP3\n",
    "        out_dir  : 片段保存的目录，默认为同级 /chunks\n",
    "    \"\"\"\n",
    "    audio = AudioSegment.from_mp3(file_path)\n",
    "    out_dir = out_dir or file_path.with_suffix('').parent / 'chunks'\n",
    "    out_dir.mkdir(exist_ok=True)\n",
    "\n",
    "    for i in range(0, len(audio), CHUNK_MS):\n",
    "        chunk = audio[i:i + CHUNK_MS]\n",
    "        # 如果最后一段不足 3 分钟，也照切——毕竟没人嫌披萨片太小\n",
    "        chunk_name = f\"{file_path.stem}_part{i // CHUNK_MS + 1:03d}.mp3\"\n",
    "        chunk.export(out_dir / chunk_name, format=\"mp3\")\n",
    "\n",
    "if __name__ == \"__main__\":\n",
    "    # 把当前目录下所有 MP3 都切了，像给迷路的灵魂安上翅膀\n",
    "    for mp3 in Path(\".\").glob(\"*.mp3\"):\n",
    "        slice_mp3(mp3)\n",
    "    print(\"切片完成，碎片已就绪。\")\n"
   ]
  },
  {
   "cell_type": "code",
   "execution_count": null,
   "id": "5",
   "metadata": {},
   "outputs": [],
   "source": []
  }
 ],
 "metadata": {
  "kernelspec": {
   "display_name": "Python (dialogue)",
   "language": "python",
   "name": "dialogue"
  },
  "language_info": {
   "codemirror_mode": {
    "name": "ipython",
    "version": 3
   },
   "file_extension": ".py",
   "mimetype": "text/x-python",
   "name": "python",
   "nbconvert_exporter": "python",
   "pygments_lexer": "ipython3",
   "version": "3.10.18"
  }
 },
 "nbformat": 4,
 "nbformat_minor": 5
}
