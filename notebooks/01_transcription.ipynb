{
 "cells": [
  {
   "cell_type": "code",
   "execution_count": null,
   "id": "0",
   "metadata": {},
   "outputs": [],
   "source": [
    "%load_ext autoreload\n",
    "%autoreload 2"
   ]
  },
  {
   "cell_type": "code",
   "execution_count": null,
   "id": "1",
   "metadata": {},
   "outputs": [],
   "source": [
    "import sys\n",
    "from pathlib import Path\n",
    "\n",
    "# Obtenir le chemin absolu du notebook, puis remonter au dossier racine\n",
    "notebook_dir = Path().resolve()\n",
    "project_root = notebook_dir.parent  # adapte selon ta structure réelle\n",
    "src_path = project_root / 'src'\n",
    "\n",
    "# Ajouter au chemin d'import\n",
    "sys.path.append(str(src_path))\n",
    "\n",
    "# Et maintenant, tu peux importer\n",
    "from utils import transcribe_video\n"
   ]
  },
  {
   "cell_type": "code",
   "execution_count": null,
   "id": "2",
   "metadata": {},
   "outputs": [],
   "source": [
    "VIDEO_PATH = Path(\"../data/raw/scene1.mp4\")\n",
    "OUTPUT_PATH = Path(\"../data/processed/transcription.srt\")"
   ]
  },
  {
   "cell_type": "code",
   "execution_count": null,
   "id": "3",
   "metadata": {},
   "outputs": [],
   "source": [
    "transcription = transcribe_video(VIDEO_PATH, output_format='srt')"
   ]
  },
  {
   "cell_type": "code",
   "execution_count": null,
   "id": "4",
   "metadata": {},
   "outputs": [],
   "source": [
    "with open(OUTPUT_PATH, 'w', encoding='utf-8') as f:\n",
    "    f.write(transcription)\n",
    "\n",
    "print(f\"Transcription terminée ! Sauvegardée dans {OUTPUT_PATH}\")"
   ]
  }
 ],
 "metadata": {
  "kernelspec": {
   "display_name": "Python (dialogue)",
   "language": "python",
   "name": "dialogue"
  },
  "language_info": {
   "codemirror_mode": {
    "name": "ipython",
    "version": 3
   },
   "file_extension": ".py",
   "mimetype": "text/x-python",
   "name": "python",
   "nbconvert_exporter": "python",
   "pygments_lexer": "ipython3",
   "version": "3.10.18"
  }
 },
 "nbformat": 4,
 "nbformat_minor": 5
}
